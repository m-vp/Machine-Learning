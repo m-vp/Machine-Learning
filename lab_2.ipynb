{
  "nbformat": 4,
  "nbformat_minor": 0,
  "metadata": {
    "colab": {
      "provenance": []
    },
    "kernelspec": {
      "name": "python3",
      "display_name": "Python 3"
    },
    "language_info": {
      "name": "python"
    }
  },
  "cells": [
    {
      "cell_type": "code",
      "execution_count": 24,
      "metadata": {
        "colab": {
          "base_uri": "https://localhost:8080/"
        },
        "id": "uzfbpsfgPudm",
        "outputId": "c65f5337-21a7-4511-bca2-1892d49eed9e"
      },
      "outputs": [
        {
          "output_type": "stream",
          "name": "stdout",
          "text": [
            "Dimensionality of the vector space: 3\n",
            "Number of vectors in the vector space: 10\n",
            "Rank of Matrix A: 3\n",
            "\n",
            "Matrix A:\n",
            "[[20  6  2]\n",
            " [16  3  6]\n",
            " [27  6  2]\n",
            " [19  1  2]\n",
            " [24  4  2]\n",
            " [22  1  5]\n",
            " [15  4  2]\n",
            " [18  4  2]\n",
            " [21  1  4]\n",
            " [16  2  4]]\n",
            "\n",
            "Matrix C:\n",
            "[[386]\n",
            " [289]\n",
            " [393]\n",
            " [110]\n",
            " [280]\n",
            " [167]\n",
            " [271]\n",
            " [274]\n",
            " [148]\n",
            " [198]]\n",
            "\n",
            "Pseudo-Inverse of A:\n",
            "[[-0.01008596 -0.03124505  0.01013951  0.0290728   0.0182907   0.01161794\n",
            "  -0.00771348  0.00095458  0.01743623 -0.00542016]\n",
            " [ 0.09059668  0.07263726  0.03172933 -0.09071908 -0.01893196 -0.06926996\n",
            "   0.05675464  0.03152577 -0.07641966  0.00357352]\n",
            " [ 0.00299878  0.15874243 -0.05795468 -0.06609024 -0.06295043  0.03348017\n",
            "   0.01541831 -0.01070461  0.00029003  0.05938755]]\n",
            "\n",
            "Cost of each product available for sale (Matrix X):\n",
            "[[ 1.]\n",
            " [55.]\n",
            " [18.]]\n"
          ]
        }
      ],
      "source": [
        "import numpy as np\n",
        "import pandas as pd\n",
        "\n",
        "df = pd.read_excel('Lab Session Data.xlsx', sheet_name=0)\n",
        "\n",
        "A = df[['Candies (#)', 'Mangoes (Kg)', 'Milk Packets (#)']].to_numpy()\n",
        "C = df['Payment (Rs)'].to_numpy()\n",
        "\n",
        "C = C.reshape(-1, 1)\n",
        "\n",
        "dimensionality = A.shape[1]\n",
        "print(f\"Dimensionality of the vector space: {dimensionality}\")\n",
        "\n",
        "num_vectors = A.shape[0]\n",
        "print(f\"Number of vectors in the vector space: {num_vectors}\")\n",
        "\n",
        "rank_A = np.linalg.matrix_rank(A)\n",
        "print(f\"Rank of Matrix A: {rank_A}\")\n",
        "\n",
        "A_pseudo_inv = np.linalg.pinv(A)\n",
        "\n",
        "X = A_pseudo_inv @ C\n",
        "\n",
        "print(\"\\nMatrix A:\")\n",
        "print(A)\n",
        "\n",
        "print(\"\\nMatrix C:\")\n",
        "print(C)\n",
        "\n",
        "print(\"\\nPseudo-Inverse of A:\")\n",
        "print(A_pseudo_inv)\n",
        "\n",
        "print(\"\\nCost of each product available for sale (Matrix X):\")\n",
        "print(X)\n"
      ]
    },
    {
      "cell_type": "code",
      "source": [],
      "metadata": {
        "id": "miX7qSvFQVS4"
      },
      "execution_count": null,
      "outputs": []
    }
  ]
}