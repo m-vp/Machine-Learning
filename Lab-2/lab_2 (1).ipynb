{
 "cells": [
  {
   "cell_type": "code",
   "execution_count": 18,
   "metadata": {
    "colab": {
     "base_uri": "https://localhost:8080/"
    },
    "id": "uzfbpsfgPudm",
    "outputId": "c65f5337-21a7-4511-bca2-1892d49eed9e"
   },
   "outputs": [
    {
     "name": "stdout",
     "output_type": "stream",
     "text": [
      "Dimensionality of the vector space: 3\n",
      "Number of vectors in the vector space: 10\n",
      "Rank of Matrix A: 3\n",
      "\n",
      "Matrix A:\n",
      "[[20  6  2]\n",
      " [16  3  6]\n",
      " [27  6  2]\n",
      " [19  1  2]\n",
      " [24  4  2]\n",
      " [22  1  5]\n",
      " [15  4  2]\n",
      " [18  4  2]\n",
      " [21  1  4]\n",
      " [16  2  4]]\n",
      "\n",
      "Matrix C:\n",
      "[[386]\n",
      " [289]\n",
      " [393]\n",
      " [110]\n",
      " [280]\n",
      " [167]\n",
      " [271]\n",
      " [274]\n",
      " [148]\n",
      " [198]]\n",
      "\n",
      "Pseudo-Inverse of A:\n",
      "[[-0.01008596 -0.03124505  0.01013951  0.0290728   0.0182907   0.01161794\n",
      "  -0.00771348  0.00095458  0.01743623 -0.00542016]\n",
      " [ 0.09059668  0.07263726  0.03172933 -0.09071908 -0.01893196 -0.06926996\n",
      "   0.05675464  0.03152577 -0.07641966  0.00357352]\n",
      " [ 0.00299878  0.15874243 -0.05795468 -0.06609024 -0.06295043  0.03348017\n",
      "   0.01541831 -0.01070461  0.00029003  0.05938755]]\n",
      "\n",
      "Cost of each product available for sale (Matrix X):\n",
      "[[ 1.]\n",
      " [55.]\n",
      " [18.]]\n"
     ]
    }
   ],
   "source": [
    "import numpy as np\n",
    "import pandas as pd\n",
    "\n",
    "df = pd.read_excel('Lab Session Data.xlsx', sheet_name=0)\n",
    "df = df.iloc[:,:5]\n",
    "A = df[['Candies (#)', 'Mangoes (Kg)', 'Milk Packets (#)']].to_numpy()\n",
    "C = df['Payment (Rs)'].to_numpy()\n",
    "\n",
    "C = C.reshape(-1, 1)\n",
    "\n",
    "dimensionality = A.shape[1]\n",
    "print(f\"Dimensionality of the vector space: {dimensionality}\")\n",
    "\n",
    "num_vectors = A.shape[0]\n",
    "print(f\"Number of vectors in the vector space: {num_vectors}\")\n",
    "\n",
    "rank_A = np.linalg.matrix_rank(A)\n",
    "print(f\"Rank of Matrix A: {rank_A}\")\n",
    "\n",
    "A_pseudo_inv = np.linalg.pinv(A)\n",
    "\n",
    "X = A_pseudo_inv @ C\n",
    "\n",
    "print(\"\\nMatrix A:\")\n",
    "print(A)\n",
    "\n",
    "print(\"\\nMatrix C:\")\n",
    "print(C)\n",
    "\n",
    "print(\"\\nPseudo-Inverse of A:\")\n",
    "print(A_pseudo_inv)\n",
    "\n",
    "print(\"\\nCost of each product available for sale (Matrix X):\")\n",
    "print(X)\n"
   ]
  },
  {
   "cell_type": "code",
   "execution_count": 19,
   "metadata": {
    "id": "miX7qSvFQVS4"
   },
   "outputs": [],
   "source": [
    "df['Class'] = np.where(df['Payment (Rs)'] > 200, 'RICH', 'POOR')"
   ]
  },
  {
   "cell_type": "code",
   "execution_count": 20,
   "metadata": {},
   "outputs": [
    {
     "name": "stdout",
     "output_type": "stream",
     "text": [
      "  Customer  Candies (#)  Mangoes (Kg)  Milk Packets (#)  Payment (Rs) Class\n",
      "0      C_1           20             6                 2           386  RICH\n",
      "1      C_2           16             3                 6           289  RICH\n",
      "2      C_3           27             6                 2           393  RICH\n",
      "3      C_4           19             1                 2           110  POOR\n",
      "4      C_5           24             4                 2           280  RICH\n",
      "5      C_6           22             1                 5           167  POOR\n",
      "6      C_7           15             4                 2           271  RICH\n",
      "7      C_8           18             4                 2           274  RICH\n",
      "8      C_9           21             1                 4           148  POOR\n",
      "9     C_10           16             2                 4           198  POOR\n"
     ]
    }
   ],
   "source": [
    "print(df)"
   ]
  },
  {
   "cell_type": "code",
   "execution_count": 21,
   "metadata": {},
   "outputs": [
    {
     "name": "stdout",
     "output_type": "stream",
     "text": [
      "Mean Price: 1560.663453815261\n",
      "Variance Price: 58732.365352539186\n"
     ]
    }
   ],
   "source": [
    "#4Q\n",
    "#i)\n",
    "import pandas as pd\n",
    "import statistics\n",
    "\n",
    "\n",
    "df = pd.read_excel('Lab Session Data.xlsx', sheet_name=1)\n",
    "\n",
    "\n",
    "prices = df['Price']\n",
    "\n",
    "\n",
    "mean_price = statistics.mean(prices)\n",
    "variance_price = statistics.variance(prices)\n",
    "\n",
    "print(f\"Mean Price: {mean_price}\")\n",
    "print(f\"Variance Price: {variance_price}\")\n"
   ]
  },
  {
   "cell_type": "code",
   "execution_count": 22,
   "metadata": {},
   "outputs": [
    {
     "name": "stdout",
     "output_type": "stream",
     "text": [
      "Mean Price on Wednesdays: 1550.706\n",
      "Population Mean Price: 1560.663453815261\n"
     ]
    }
   ],
   "source": [
    "#4Q\n",
    "#ii)\n",
    "wednesdays = df[df['Day'] == 'Wed']\n",
    "wednesday_prices = wednesdays['Price']\n",
    "\n",
    "mean_wednesday_price = statistics.mean(wednesday_prices)\n",
    "\n",
    "print(f\"Mean Price on Wednesdays: {mean_wednesday_price}\")\n",
    "print(f\"Population Mean Price: {mean_price}\")\n"
   ]
  },
  {
   "cell_type": "code",
   "execution_count": 23,
   "metadata": {},
   "outputs": [
    {
     "name": "stdout",
     "output_type": "stream",
     "text": [
      "Mean Price in April: 1698.9526315789474\n",
      "Population Mean Price: 1560.663453815261\n"
     ]
    }
   ],
   "source": [
    "#4Q\n",
    "#iii)\n",
    "# Filter for April\n",
    "april_data = df[df['Month'] == 'Apr']\n",
    "april_prices = april_data['Price']\n",
    "\n",
    "# Calculate sample mean for April\n",
    "mean_april_price = statistics.mean(april_prices)\n",
    "\n",
    "print(f\"Mean Price in April: {mean_april_price}\")\n",
    "print(f\"Population Mean Price: {mean_price}\")\n"
   ]
  },
  {
   "cell_type": "code",
   "execution_count": 24,
   "metadata": {},
   "outputs": [
    {
     "name": "stdout",
     "output_type": "stream",
     "text": [
      "Probability of Making a Loss: 0.4979919678714859\n"
     ]
    }
   ],
   "source": [
    "#4Q\n",
    "#iV)\n",
    "df['Chg%'] = df['Chg%'].astype(float) / 100\n",
    "loss_prob = len(df[df['Chg%'] < 0]) / len(df)\n",
    "\n",
    "print(f\"Probability of Making a Loss: {loss_prob}\")\n"
   ]
  },
  {
   "cell_type": "code",
   "execution_count": 25,
   "metadata": {},
   "outputs": [
    {
     "name": "stdout",
     "output_type": "stream",
     "text": [
      "Probability of Making a Profit on Wednesdays: 0.42\n"
     ]
    }
   ],
   "source": [
    "#4Q\n",
    "#V)\n",
    "wednesday_chg = wednesdays['Chg%']\n",
    "\n",
    "profit_prob_wed = len(wednesday_chg[wednesday_chg > 0]) / len(wednesday_chg)\n",
    "\n",
    "print(f\"Probability of Making a Profit on Wednesdays: {profit_prob_wed}\")\n"
   ]
  },
  {
   "cell_type": "code",
   "execution_count": 26,
   "metadata": {},
   "outputs": [
    {
     "name": "stdout",
     "output_type": "stream",
     "text": [
      "Conditional Probability of Making a Profit Given that Today is Wednesday: 0.42\n"
     ]
    }
   ],
   "source": [
    "#4Q\n",
    "#Vi)\n",
    "\n",
    "wednesday_data = df[df['Day'] == 'Wed']\n",
    "\n",
    "\n",
    "wednesday_count = len(wednesday_data)\n",
    "wednesday_profit_count = len(wednesday_data[wednesday_data['Chg%'] > 0])\n",
    "\n",
    "conditional_prob = wednesday_profit_count / wednesday_count\n",
    "\n",
    "print(f\"Conditional Probability of Making a Profit Given that Today is Wednesday: {conditional_prob}\")\n"
   ]
  },
  {
   "cell_type": "code",
   "execution_count": 27,
   "metadata": {},
   "outputs": [
    {
     "data": {
      "image/png": "[encoded data removed]",
      "text/plain": [
       "<Figure size 640x480 with 1 Axes>"
      ]
     },
     "metadata": {},
     "output_type": "display_data"
    }
   ],
   "source": [
    "#4Q\n",
    "#vii)\n",
    "import matplotlib.pyplot as plt\n",
    "\n",
    "day_mapping = {'Mon': 0, 'Tue': 1, 'Wed': 2, 'Thu': 3, 'Fri': 4}\n",
    "df['Day_num'] = df['Day'].map(day_mapping)\n",
    "\n",
    "plt.scatter(df['Day_num'], df['Chg%'])\n",
    "plt.xlabel('Day of the Week')\n",
    "plt.ylabel('Chg%')\n",
    "plt.title('Scatter Plot of Chg% Data Against the Day of the Week')\n",
    "plt.xticks(ticks=list(day_mapping.values()), labels=list(day_mapping.keys()))\n",
    "plt.grid(True)\n",
    "plt.show()\n"
   ]
  },
  {
   "cell_type": "code",
   "execution_count": null,
   "metadata": {},
   "outputs": [],
   "source": []
  }
 ],
 "metadata": {
  "colab": {
   "provenance": []
  },
  "kernelspec": {
   "display_name": "Python 3 (ipykernel)",
   "language": "python",
   "name": "python3"
  },
  "language_info": {
   "codemirror_mode": {
    "name": "ipython",
    "version": 3
   },
   "file_extension": ".py",
   "mimetype": "text/x-python",
   "name": "python",
   "nbconvert_exporter": "python",
   "pygments_lexer": "ipython3",
   "version": "3.11.7"
  }
 },
 "nbformat": 4,
 "nbformat_minor": 4
}
