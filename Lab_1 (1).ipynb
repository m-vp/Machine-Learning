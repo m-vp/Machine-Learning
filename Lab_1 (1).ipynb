{
  "nbformat": 4,
  "nbformat_minor": 0,
  "metadata": {
    "colab": {
      "provenance": []
    },
    "kernelspec": {
      "name": "python3",
      "display_name": "Python 3"
    },
    "language_info": {
      "name": "python"
    }
  },
  "cells": [
    {
      "cell_type": "code",
      "execution_count": 4,
      "metadata": {
        "colab": {
          "base_uri": "https://localhost:8080/"
        },
        "id": "iGgjnTmemMAx",
        "outputId": "7f16022b-9d02-44b3-b9f0-aae0119a14a4"
      },
      "outputs": [
        {
          "output_type": "stream",
          "name": "stdout",
          "text": [
            "Enter a String: hemesh\n",
            "Count of vowels in the given string: 2\n",
            "Count of consonants in the given string: 4\n"
          ]
        }
      ],
      "source": [
        "#1Q)\n",
        "def count_vowels(string):\n",
        "  vowels = 'AEIOUaeiou'\n",
        "  vowel_count = 0;\n",
        "  for char in string:\n",
        "    if char in vowels:\n",
        "      vowel_count = vowel_count + 1\n",
        "  return vowel_count\n",
        "\n",
        "def count_consonants(string):\n",
        "  vowels = 'AEIOUaeiou'\n",
        "  consonant_count = 0;\n",
        "  for char in string:\n",
        "    if char not in vowels:\n",
        "      consonant_count = consonant_count + 1\n",
        "  return consonant_count\n",
        "\n",
        "\n",
        "\n",
        "input_string = input('Enter a String: ')\n",
        "print('Count of vowels in the given string:',count_vowels(input_string))\n",
        "print('Count of consonants in the given string:',count_consonants(input_string))"
      ]
    },
    {
      "cell_type": "code",
      "source": [
        "#4Q)\n",
        "# this function is for taking matrix input\n",
        "def construct_matrix(rows,columns,matrix):\n",
        "  for i in range(rows):\n",
        "    matrix_row = []\n",
        "    for j in range(columns):\n",
        "      element = int(input(f'Enter element for row {i+1} and column {j+1}: '))\n",
        "      matrix_row.append(element)\n",
        "    matrix.append(matrix_row)\n",
        "#this function is for matrix transpose\n",
        "def transposes_matrix(matrix,rows,columns,transpose_matrix):\n",
        "  for i in range(columns):\n",
        "    transpose_matrix_row = []\n",
        "    for j in range(rows):\n",
        "      transpose_matrix_row.append(matrix[j][i])\n",
        "    transpose_matrix.append(transpose_matrix_row)\n",
        "\n",
        "#main program starts here\n",
        "#enter number of rows and colums\n",
        "rows = int(input('Enter number of rows: '))\n",
        "columns = int(input('Enter number of columns: '))\n",
        "\n",
        "matrix = []\n",
        "\n",
        "construct_matrix(rows,columns,matrix)\n",
        "print('Input Matrix: ')\n",
        "for i in range(rows):\n",
        "\n",
        "    for j in range(columns):\n",
        "        print(matrix[i][j], end = \" \")\n",
        "    print()\n",
        "\n",
        "\n",
        "transpose_matrix = []\n",
        "\n",
        "transposes_matrix(matrix,rows,columns,transpose_matrix)\n",
        "print('Transpose Matrix: ')\n",
        "for i in range(rows):\n",
        "\n",
        "    for j in range(columns):\n",
        "        print(transpose_matrix[i][j], end = \" \")\n",
        "    print()\n",
        "\n"
      ],
      "metadata": {
        "colab": {
          "base_uri": "https://localhost:8080/"
        },
        "id": "YP9oSPVRnchR",
        "outputId": "7c2d84f1-d656-4723-fddf-8e1798d80005"
      },
      "execution_count": 9,
      "outputs": [
        {
          "output_type": "stream",
          "name": "stdout",
          "text": [
            "Enter number of rows: 2\n",
            "Enter number of columns: 2\n",
            "Enter element for row 1 and column 1: 1\n",
            "Enter element for row 1 and column 2: 2\n",
            "Enter element for row 2 and column 1: 3\n",
            "Enter element for row 2 and column 2: 4\n",
            "Input Matrix: \n",
            "1 2 \n",
            "3 4 \n",
            "Transpose Matrix: \n",
            "1 3 \n",
            "2 4 \n"
          ]
        }
      ]
    },
    {
      "cell_type": "code",
      "source": [
        "#2Q)\n",
        "# this function is for taking matrix input\n",
        "def construct_matrix(rows, columns):\n",
        "    matrix = []\n",
        "    for i in range(rows):\n",
        "        matrix_row = []\n",
        "        for j in range(columns):\n",
        "            element = int(input(f'Enter element for row {i+1} and column {j+1}: '))\n",
        "            matrix_row.append(element)\n",
        "        matrix.append(matrix_row)\n",
        "    return matrix\n",
        "# this function is for taking matrix multiplication\n",
        "def matrix_multiplication(matrix_a, matrix_b):\n",
        "    rows_A = len(matrix_a)\n",
        "    columns_A = len(matrix_a[0])\n",
        "    rows_B = len(matrix_b)\n",
        "    columns_B = len(matrix_b[0])\n",
        "\n",
        "    result_matrix = [[0] * columns_B for ele in range(rows_A)]\n",
        "\n",
        "    for i in range(rows_A):\n",
        "        for j in range(columns_B):\n",
        "            result_matrix[i][j] = sum(matrix_a[i][k] * matrix_b[k][j] for k in range(columns_A))\n",
        "\n",
        "    return result_matrix\n",
        "\n",
        "rows_A = int(input('Enter number of rows for matrix A: '))\n",
        "columns_A = int(input('Enter number of columns for matrix A: '))\n",
        "\n",
        "rows_B = int(input('Enter number of rows for matrix B: '))\n",
        "columns_B = int(input('Enter number of columns for matrix B: '))\n",
        "\n",
        "if columns_A != rows_B:\n",
        "    print('Error: Multiplication is not possible')\n",
        "    exit()\n",
        "\n",
        "print('Enter elements for Matrix A:')\n",
        "matrix_a = construct_matrix(rows_A, columns_A)\n",
        "\n",
        "print('Enter elements for Matrix B:')\n",
        "matrix_b = construct_matrix(rows_B, columns_B)\n",
        "\n",
        "print('Input Matrix A: ')\n",
        "\n",
        "for i in range(rows_A):\n",
        "\n",
        "    for j in range(columns_A):\n",
        "        print(matrix_a[i][j], end = \" \")\n",
        "    print()\n",
        "\n",
        "print('Input Matrix B: ')\n",
        "\n",
        "for i in range(rows_B):\n",
        "\n",
        "    for j in range(columns_B):\n",
        "        print(matrix_b[i][j], end = \" \")\n",
        "    print()\n",
        "\n",
        "result_matrix = matrix_multiplication(matrix_a, matrix_b)\n",
        "\n",
        "print('Result Matrix: ')\n",
        "for i in range(rows_A):\n",
        "\n",
        "    for j in range(columns_B):\n",
        "        print(result_matrix[i][j], end = \" \")\n",
        "    print()\n"
      ],
      "metadata": {
        "colab": {
          "base_uri": "https://localhost:8080/"
        },
        "id": "cYIqnTcJsRb-",
        "outputId": "f0aeee35-ea43-4923-9b0b-e28350376a66"
      },
      "execution_count": 17,
      "outputs": [
        {
          "output_type": "stream",
          "name": "stdout",
          "text": [
            "Enter number of rows for matrix A: 2\n",
            "Enter number of columns for matrix A: 2\n",
            "Enter number of rows for matrix B: 2\n",
            "Enter number of columns for matrix B: 2\n",
            "Enter elements for Matrix A:\n",
            "Enter element for row 1 and column 1: 1\n",
            "Enter element for row 1 and column 2: 2\n",
            "Enter element for row 2 and column 1: 3\n",
            "Enter element for row 2 and column 2: 4\n",
            "Enter elements for Matrix B:\n",
            "Enter element for row 1 and column 1: 5\n",
            "Enter element for row 1 and column 2: 6\n",
            "Enter element for row 2 and column 1: 7\n",
            "Enter element for row 2 and column 2: 8\n",
            "Input Matrix A: \n",
            "1 2 \n",
            "3 4 \n",
            "Input Matrix B: \n",
            "5 6 \n",
            "7 8 \n",
            "Result Matrix: \n",
            "19 22 \n",
            "43 50 \n"
          ]
        }
      ]
    },
    {
      "cell_type": "code",
      "source": [
        "#3Q)\n",
        "# this function is for inputting list\n",
        "def input_list():\n",
        "    result = []\n",
        "    i = 0\n",
        "    while True:\n",
        "        user_input = input(f'Enter element {i+1} (or type \"exit\" to finish): ')\n",
        "        if user_input.lower() == \"exit\":\n",
        "            break\n",
        "        try:\n",
        "            element = int(user_input)\n",
        "            result.append(element)\n",
        "            i += 1\n",
        "        except ValueError:\n",
        "            print(\"Please enter a valid integer or 'exit' to finish.\")\n",
        "    return result\n",
        "# this function is for getting count of commont elements in list\n",
        "def common_count(list_a, list_b):\n",
        "    count = 0\n",
        "    for ele_a in list_a:\n",
        "        if ele_a in list_b:\n",
        "            count += 1\n",
        "            list_b.remove(ele_a)\n",
        "    return count\n",
        "\n",
        "print('Enter elements for the first list:')\n",
        "list_a = input_list()\n",
        "\n",
        "print('Enter elements for the second list:')\n",
        "list_b = input_list()\n",
        "\n",
        "common_ele_count = common_count(list_a, list_b)\n",
        "print(f'Number of common elements: {common_ele_count}')\n"
      ],
      "metadata": {
        "colab": {
          "base_uri": "https://localhost:8080/"
        },
        "id": "-fhM4JsYwYA7",
        "outputId": "9c750c39-8ef9-49fe-855c-318a4bf294ef"
      },
      "execution_count": 20,
      "outputs": [
        {
          "output_type": "stream",
          "name": "stdout",
          "text": [
            "Enter elements for the first list:\n",
            "Enter element 1 (or type \"exit\" to finish): 1\n",
            "Enter element 2 (or type \"exit\" to finish): 2\n",
            "Enter element 3 (or type \"exit\" to finish): 3\n",
            "Enter element 4 (or type \"exit\" to finish): 4\n",
            "Enter element 5 (or type \"exit\" to finish): exit\n",
            "Enter elements for the second list:\n",
            "Enter element 1 (or type \"exit\" to finish): 5\n",
            "Enter element 2 (or type \"exit\" to finish): 2\n",
            "Enter element 3 (or type \"exit\" to finish): 3\n",
            "Enter element 4 (or type \"exit\" to finish): 2\n",
            "Enter element 5 (or type \"exit\" to finish): 4\n",
            "Enter element 6 (or type \"exit\" to finish): \n",
            "Please enter a valid integer or 'exit' to finish.\n",
            "Enter element 6 (or type \"exit\" to finish): exit\n",
            "Number of common elements: 3\n"
          ]
        }
      ]
    },
    {
      "cell_type": "code",
      "source": [],
      "metadata": {
        "id": "iqqU15uf1QRz"
      },
      "execution_count": null,
      "outputs": []
    }
  ]
}