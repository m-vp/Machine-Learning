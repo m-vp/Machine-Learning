{
 "cells": [
  {
   "cell_type": "code",
   "execution_count": 7,
   "id": "4cedc66f-fcf4-4fc5-8274-6396ef3fe77f",
   "metadata": {},
   "outputs": [
    {
     "name": "stdout",
     "output_type": "stream",
     "text": [
      "   Header_and_Main_Declaration  Incomprehensible_Code  \\\n",
      "0                            2                    2.0   \n",
      "1                            2                    2.0   \n",
      "2                            2                    2.0   \n",
      "3                            2                    1.0   \n",
      "4                            2                    2.0   \n",
      "\n",
      "   Comprehensible_Code_with_logical_errors  \\\n",
      "0                                        2   \n",
      "1                                        2   \n",
      "2                                        1   \n",
      "3                                        1   \n",
      "4                                        1   \n",
      "\n",
      "   Comprehensible_code_with_syntax_errors  Correct_code_and_output  \\\n",
      "0                                     2.0                        2   \n",
      "1                                     2.0                        0   \n",
      "2                                     1.0                        1   \n",
      "3                                     1.0                        0   \n",
      "4                                     1.0                        0   \n",
      "\n",
      "   Final_Marks  \n",
      "0           10  \n",
      "1            8  \n",
      "2            7  \n",
      "3            5  \n",
      "4            6  \n"
     ]
    }
   ],
   "source": [
    "#collecting and loading data\n",
    "import pandas as pd\n",
    "import numpy as np\n",
    "\n",
    "def read_data(file_name):\n",
    "    df = pd.read_excel(file_name)\n",
    "    df = df.fillna(df.mean(numeric_only=True))  # Fill missing values with column mean for numeric columns\n",
    "    df = df.iloc[:, 4:10]  # Select columns 4 to 9\n",
    "    return df\n",
    "\n",
    "df = read_data('ml-data.xlsx')\n",
    "\n",
    "print(df.head())\n"
   ]
  },
  {
   "cell_type": "code",
   "execution_count": 12,
   "id": "96218e3f-8c15-444a-84f4-dbfd81325108",
   "metadata": {},
   "outputs": [
    {
     "data": {
      "text/html": [
       "<style>#sk-container-id-1 {color: black;background-color: white;}#sk-container-id-1 pre{padding: 0;}#sk-container-id-1 div.sk-toggleable {background-color: white;}#sk-container-id-1 label.sk-toggleable__label {cursor: pointer;display: block;width: 100%;margin-bottom: 0;padding: 0.3em;box-sizing: border-box;text-align: center;}#sk-container-id-1 label.sk-toggleable__label-arrow:before {content: \"▸\";float: left;margin-right: 0.25em;color: #696969;}#sk-container-id-1 label.sk-toggleable__label-arrow:hover:before {color: black;}#sk-container-id-1 div.sk-estimator:hover label.sk-toggleable__label-arrow:before {color: black;}#sk-container-id-1 div.sk-toggleable__content {max-height: 0;max-width: 0;overflow: hidden;text-align: left;background-color: #f0f8ff;}#sk-container-id-1 div.sk-toggleable__content pre {margin: 0.2em;color: black;border-radius: 0.25em;background-color: #f0f8ff;}#sk-container-id-1 input.sk-toggleable__control:checked~div.sk-toggleable__content {max-height: 200px;max-width: 100%;overflow: auto;}#sk-container-id-1 input.sk-toggleable__control:checked~label.sk-toggleable__label-arrow:before {content: \"▾\";}#sk-container-id-1 div.sk-estimator input.sk-toggleable__control:checked~label.sk-toggleable__label {background-color: #d4ebff;}#sk-container-id-1 div.sk-label input.sk-toggleable__control:checked~label.sk-toggleable__label {background-color: #d4ebff;}#sk-container-id-1 input.sk-hidden--visually {border: 0;clip: rect(1px 1px 1px 1px);clip: rect(1px, 1px, 1px, 1px);height: 1px;margin: -1px;overflow: hidden;padding: 0;position: absolute;width: 1px;}#sk-container-id-1 div.sk-estimator {font-family: monospace;background-color: #f0f8ff;border: 1px dotted black;border-radius: 0.25em;box-sizing: border-box;margin-bottom: 0.5em;}#sk-container-id-1 div.sk-estimator:hover {background-color: #d4ebff;}#sk-container-id-1 div.sk-parallel-item::after {content: \"\";width: 100%;border-bottom: 1px solid gray;flex-grow: 1;}#sk-container-id-1 div.sk-label:hover label.sk-toggleable__label {background-color: #d4ebff;}#sk-container-id-1 div.sk-serial::before {content: \"\";position: absolute;border-left: 1px solid gray;box-sizing: border-box;top: 0;bottom: 0;left: 50%;z-index: 0;}#sk-container-id-1 div.sk-serial {display: flex;flex-direction: column;align-items: center;background-color: white;padding-right: 0.2em;padding-left: 0.2em;position: relative;}#sk-container-id-1 div.sk-item {position: relative;z-index: 1;}#sk-container-id-1 div.sk-parallel {display: flex;align-items: stretch;justify-content: center;background-color: white;position: relative;}#sk-container-id-1 div.sk-item::before, #sk-container-id-1 div.sk-parallel-item::before {content: \"\";position: absolute;border-left: 1px solid gray;box-sizing: border-box;top: 0;bottom: 0;left: 50%;z-index: -1;}#sk-container-id-1 div.sk-parallel-item {display: flex;flex-direction: column;z-index: 1;position: relative;background-color: white;}#sk-container-id-1 div.sk-parallel-item:first-child::after {align-self: flex-end;width: 50%;}#sk-container-id-1 div.sk-parallel-item:last-child::after {align-self: flex-start;width: 50%;}#sk-container-id-1 div.sk-parallel-item:only-child::after {width: 0;}#sk-container-id-1 div.sk-dashed-wrapped {border: 1px dashed gray;margin: 0 0.4em 0.5em 0.4em;box-sizing: border-box;padding-bottom: 0.4em;background-color: white;}#sk-container-id-1 div.sk-label label {font-family: monospace;font-weight: bold;display: inline-block;line-height: 1.2em;}#sk-container-id-1 div.sk-label-container {text-align: center;}#sk-container-id-1 div.sk-container {/* jupyter's `normalize.less` sets `[hidden] { display: none; }` but bootstrap.min.css set `[hidden] { display: none !important; }` so we also need the `!important` here to be able to override the default hidden behavior on the sphinx rendered scikit-learn.org. See: https://github.com/scikit-learn/scikit-learn/issues/21755 */display: inline-block !important;position: relative;}#sk-container-id-1 div.sk-text-repr-fallback {display: none;}</style><div id=\"sk-container-id-1\" class=\"sk-top-container\"><div class=\"sk-text-repr-fallback\"><pre>LinearRegression()</pre><b>In a Jupyter environment, please rerun this cell to show the HTML representation or trust the notebook. <br />On GitHub, the HTML representation is unable to render, please try loading this page with nbviewer.org.</b></div><div class=\"sk-container\" hidden><div class=\"sk-item\"><div class=\"sk-estimator sk-toggleable\"><input class=\"sk-toggleable__control sk-hidden--visually\" id=\"sk-estimator-id-1\" type=\"checkbox\" checked><label for=\"sk-estimator-id-1\" class=\"sk-toggleable__label sk-toggleable__label-arrow\">LinearRegression</label><div class=\"sk-toggleable__content\"><pre>LinearRegression()</pre></div></div></div></div></div>"
      ],
      "text/plain": [
       "LinearRegression()"
      ]
     },
     "execution_count": 12,
     "metadata": {},
     "output_type": "execute_result"
    }
   ],
   "source": [
    "#1q)\n",
    "from sklearn.model_selection import train_test_split\n",
    "from sklearn.linear_model import LinearRegression\n",
    "\n",
    "def train_test_splits(X, y):\n",
    "    X_train, X_test, y_train, y_test = train_test_split(X, y, test_size=0.2, random_state=42)\n",
    "    return X_train, X_test, y_train, y_test\n",
    "\n",
    "def train_model(X_train, y_train):\n",
    "    reg = LinearRegression().fit(X_train, y_train)\n",
    "    y_train_pred = reg.predict(X_train)\n",
    "    return reg\n",
    "\n",
    "# Split the data into train and test\n",
    "X_train, X_test, y_train, y_test = train_test_splits(df[['Correct_code_and_output']], df['Final_Marks'])\n",
    "\n",
    "# Train the model\n",
    "model = train_model(X_train, y_train)\n",
    "model"
   ]
  },
  {
   "cell_type": "code",
   "execution_count": 13,
   "id": "7e2a7767-3016-404e-93ff-50b536f8f017",
   "metadata": {},
   "outputs": [
    {
     "name": "stdout",
     "output_type": "stream",
     "text": [
      "Training Set Metrics:\n",
      "MSE: 2.64, RMSE: 1.63, MAPE: 11096952697985274.00%, R²: 0.43\n",
      "\n",
      "Testing Set Metrics:\n",
      "MSE: 2.74, RMSE: 1.65, MAPE: 17679890739162960.00%, R²: 0.36\n"
     ]
    }
   ],
   "source": [
    "#2q)\n",
    "\n",
    "from sklearn.metrics import mean_squared_error, mean_absolute_percentage_error, r2_score\n",
    "import numpy as np\n",
    "\n",
    "# Function to evaluate the model's performance\n",
    "def evaluate_model(y_true, y_pred):\n",
    "    mse = mean_squared_error(y_true, y_pred)\n",
    "    rmse = np.sqrt(mse)\n",
    "    mape = mean_absolute_percentage_error(y_true, y_pred)\n",
    "    r2 = r2_score(y_true, y_pred)\n",
    "    return mse, rmse, mape, r2\n",
    "\n",
    "\n",
    "y_train_pred = model.predict(X_train)\n",
    "y_test_pred = model.predict(X_test)\n",
    "\n",
    "# for the training set\n",
    "train_mse, train_rmse, train_mape, train_r2 = evaluate_model(y_train, y_train_pred)\n",
    "\n",
    "# for the testing set\n",
    "test_mse, test_rmse, test_mape, test_r2 = evaluate_model(y_test, y_test_pred)\n",
    "\n",
    "print(\"Training Set Metrics:\")\n",
    "print(f\"MSE: {train_mse:.2f}, RMSE: {train_rmse:.2f}, MAPE: {train_mape:.2%}, R²: {train_r2:.2f}\")\n",
    "\n",
    "print(\"\\nTesting Set Metrics:\")\n",
    "print(f\"MSE: {test_mse:.2f}, RMSE: {test_rmse:.2f}, MAPE: {test_mape:.2%}, R²: {test_r2:.2f}\")\n"
   ]
  },
  {
   "cell_type": "code",
   "execution_count": 14,
   "id": "1cb0afc5-5562-4a55-a870-48c32a6d75b4",
   "metadata": {},
   "outputs": [
    {
     "name": "stdout",
     "output_type": "stream",
     "text": [
      "   Header_and_Main_Declaration  Incomprehensible_Code  \\\n",
      "0                            2                    2.0   \n",
      "1                            2                    2.0   \n",
      "2                            2                    2.0   \n",
      "3                            2                    1.0   \n",
      "4                            2                    2.0   \n",
      "\n",
      "   Comprehensible_Code_with_logical_errors  \\\n",
      "0                                        2   \n",
      "1                                        2   \n",
      "2                                        1   \n",
      "3                                        1   \n",
      "4                                        1   \n",
      "\n",
      "   Comprehensible_code_with_syntax_errors  Correct_code_and_output  \\\n",
      "0                                     2.0                        2   \n",
      "1                                     2.0                        0   \n",
      "2                                     1.0                        1   \n",
      "3                                     1.0                        0   \n",
      "4                                     1.0                        0   \n",
      "\n",
      "   Final_Marks  \n",
      "0           10  \n",
      "1            8  \n",
      "2            7  \n",
      "3            5  \n",
      "4            6  \n"
     ]
    }
   ],
   "source": [
    "# reloading the data\n",
    "\n",
    "df = read_data('ml-data.xlsx')\n",
    "\n",
    "print(df.head())"
   ]
  },
  {
   "cell_type": "code",
   "execution_count": 21,
   "id": "83f1c4fd-4699-47bc-879c-9e89b062cb77",
   "metadata": {},
   "outputs": [
    {
     "name": "stdout",
     "output_type": "stream",
     "text": [
      "Training Set Metrics:\n",
      "MSE: 0.00, RMSE: 0.06, MAPE: 935317922102.33%, R²: 1.00\n",
      "\n",
      "Testing Set Metrics:\n",
      "MSE: 0.00, RMSE: 0.00, MAPE: 1490167536908.57%, R²: 1.00\n"
     ]
    }
   ],
   "source": [
    "#3q)\n",
    "\n",
    "# Split the data into train and test\n",
    "y = df.iloc[:,-1]\n",
    "X = df.drop('Final_Marks',axis = 1)\n",
    "X_train, X_test, y_train, y_test = train_test_splits(X, y)\n",
    "\n",
    "# Train the model\n",
    "model = train_model(X_train, y_train)\n",
    "y_train_pred = model.predict(X_train)\n",
    "y_test_pred = model.predict(X_test)\n",
    "\n",
    "# for the training set\n",
    "train_mse, train_rmse, train_mape, train_r2 = evaluate_model(y_train, y_train_pred)\n",
    "\n",
    "# for the testing set\n",
    "test_mse, test_rmse, test_mape, test_r2 = evaluate_model(y_test, y_test_pred)\n",
    "\n",
    "print(\"Training Set Metrics:\")\n",
    "print(f\"MSE: {train_mse:.2f}, RMSE: {train_rmse:.2f}, MAPE: {train_mape:.2%}, R²: {train_r2:.2f}\")\n",
    "\n",
    "print(\"\\nTesting Set Metrics:\")\n",
    "print(f\"MSE: {test_mse:.2f}, RMSE: {test_rmse:.2f}, MAPE: {test_mape:.2%}, R²: {test_r2:.2f}\")\n"
   ]
  },
  {
   "cell_type": "code",
   "execution_count": 26,
   "id": "b6c53046-57da-4ddd-a06c-fe57e93cfce1",
   "metadata": {},
   "outputs": [
    {
     "name": "stderr",
     "output_type": "stream",
     "text": [
      "C:\\Users\\mvenk\\anaconda3\\Lib\\site-packages\\sklearn\\cluster\\_kmeans.py:870: FutureWarning: The default value of `n_init` will change from 10 to 'auto' in 1.4. Set the value of `n_init` explicitly to suppress the warning\n",
      "  warnings.warn(\n",
      "C:\\Users\\mvenk\\anaconda3\\Lib\\site-packages\\sklearn\\cluster\\_kmeans.py:1382: UserWarning: KMeans is known to have a memory leak on Windows with MKL, when there are less chunks than available threads. You can avoid it by setting the environment variable OMP_NUM_THREADS=5.\n",
      "  warnings.warn(\n"
     ]
    },
    {
     "name": "stdout",
     "output_type": "stream",
     "text": [
      "   Header_and_Main_Declaration  Incomprehensible_Code  \\\n",
      "0                            2                    2.0   \n",
      "1                            2                    2.0   \n",
      "2                            2                    2.0   \n",
      "3                            2                    1.0   \n",
      "4                            2                    2.0   \n",
      "\n",
      "   Comprehensible_Code_with_logical_errors  \\\n",
      "0                                        2   \n",
      "1                                        2   \n",
      "2                                        1   \n",
      "3                                        1   \n",
      "4                                        1   \n",
      "\n",
      "   Comprehensible_code_with_syntax_errors  Correct_code_and_output  \\\n",
      "0                                     2.0                        2   \n",
      "1                                     2.0                        0   \n",
      "2                                     1.0                        1   \n",
      "3                                     1.0                        0   \n",
      "4                                     1.0                        0   \n",
      "\n",
      "   Final_Marks  Cluster  Target  \n",
      "0           10        1       1  \n",
      "1            8        1       1  \n",
      "2            7        1       1  \n",
      "3            5        0       1  \n",
      "4            6        1       1  \n",
      "Cluster Centers:\n",
      " [[ 1.66796117e+00  1.74757282e-01  8.71844660e-01  9.69037892e-01\n",
      "   2.27184466e-01 -1.11022302e-16  3.14563107e-01]\n",
      " [ 1.84720121e+00  1.93065310e+00  1.19667171e+00  1.12111122e+00\n",
      "   6.52042360e-01  1.00000000e+00  9.42511346e-01]]\n"
     ]
    }
   ],
   "source": [
    "#4q)\n",
    "from sklearn.cluster import KMeans\n",
    "import pandas as pd\n",
    "\n",
    "# prepare data by removing the target variable\n",
    "def prepare_data(df, target_column):\n",
    "    X = df.drop(columns=[target_column])\n",
    "    return X\n",
    "\n",
    "# perform K-means clustering\n",
    "def perform_kmeans(X, n_clusters=3):\n",
    "    kmeans = KMeans(n_clusters=n_clusters, random_state=42)\n",
    "    kmeans.fit(X)\n",
    "    return kmeans\n",
    "\n",
    "def add_cluster_labels(df, kmeans):\n",
    "    df['Cluster'] = kmeans.labels_\n",
    "    return df\n",
    "\n",
    "def main(df, target_column, n_clusters=3):\n",
    "    X = prepare_data(df, target_column)\n",
    "    kmeans = perform_kmeans(X, n_clusters)\n",
    "    df_with_clusters = add_cluster_labels(df, kmeans)\n",
    "    return df_with_clusters, kmeans\n",
    "\n",
    "df_with_clusters, kmeans_model = main(df, target_column='Final_Marks', n_clusters=2)\n",
    "\n",
    "print(df_with_clusters.head())\n",
    "\n",
    "# Optionally, analyze the cluster centers\n",
    "print(\"Cluster Centers:\\n\", kmeans_model.cluster_centers_)\n",
    "\n"
   ]
  },
  {
   "cell_type": "code",
   "execution_count": null,
   "id": "e415b9b8-4797-4264-a857-56941476e413",
   "metadata": {},
   "outputs": [],
   "source": [
    "#5q)\n"
   ]
  }
 ],
 "metadata": {
  "kernelspec": {
   "display_name": "Python 3 (ipykernel)",
   "language": "python",
   "name": "python3"
  },
  "language_info": {
   "codemirror_mode": {
    "name": "ipython",
    "version": 3
   },
   "file_extension": ".py",
   "mimetype": "text/x-python",
   "name": "python",
   "nbconvert_exporter": "python",
   "pygments_lexer": "ipython3",
   "version": "3.11.7"
  }
 },
 "nbformat": 4,
 "nbformat_minor": 5
}
